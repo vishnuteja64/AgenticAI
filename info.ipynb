{
 "cells": [
  {
   "cell_type": "markdown",
   "id": "8cc77a22",
   "metadata": {},
   "source": [
    "requiremets.txt \n",
    "It’s a plain text file that lists all the Python packages your project depends on, usually with their versions."
   ]
  },
  {
   "cell_type": "markdown",
   "id": "e303e382",
   "metadata": {},
   "source": [
    "venv -> conda create -p venv python==3.12\n",
    "conda\tThe Conda package/environment manager.\n",
    "create\tCommand to create a new environment.\n",
    "-p venv\tTells Conda to create the environment at a specific path, here a folder named venv.\n",
    "python==3.12\tInstalls Python version 3.12 into the environment."
   ]
  },
  {
   "cell_type": "code",
   "execution_count": null,
   "id": "8e6e3d63",
   "metadata": {
    "vscode": {
     "languageId": "plaintext"
    }
   },
   "outputs": [],
   "source": [
    "A virtual environment is an isolated Python environment that has its own installation \n",
    "of Python and pip packages, separate from the global Python installation\n"
   ]
  },
  {
   "cell_type": "code",
   "execution_count": null,
   "id": "14d968a8",
   "metadata": {
    "vscode": {
     "languageId": "plaintext"
    }
   },
   "outputs": [],
   "source": [
    "LangChain is an open-source framework for developing applications powered by LLMs. It provides tools,\n",
    " abstractions, and integrations to:\n",
    "\n",
    "Chain together multiple LLM calls\n",
    "\n",
    "Integrate external data (like documents, APIs, databases)\n",
    "\n",
    "Manage memory, tools, and agents\n",
    "\n",
    "Enable Retrieval-Augmented Generation (RAG)\n",
    "\n",
    "Create AI agents that can take actions using tools\n",
    "\n",
    "\n"
   ]
  },
  {
   "cell_type": "markdown",
   "id": "8f302757",
   "metadata": {},
   "source": []
  }
 ],
 "metadata": {
  "language_info": {
   "name": "python"
  }
 },
 "nbformat": 4,
 "nbformat_minor": 5
}
